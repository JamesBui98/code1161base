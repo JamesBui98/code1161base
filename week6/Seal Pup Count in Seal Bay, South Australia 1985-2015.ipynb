{
 "cells": [
  {
   "cell_type": "markdown",
   "metadata": {
    "collapsed": true,
    "deletable": true,
    "editable": true
   },
   "source": [
    "%matplotlib inline\n",
    "plt.rcParams['figure.figsize'] = (20, 10)"
   ]
  },
  {
   "cell_type": "markdown",
   "metadata": {
    "collapsed": true,
    "deletable": true,
    "editable": true
   },
   "source": [
    "saved_style_state = matplotlib.rcParams.copy()"
   ]
  },
  {
   "cell_type": "code",
   "execution_count": 6,
   "metadata": {
    "collapsed": true,
    "deletable": true,
    "editable": true
   },
   "outputs": [],
   "source": [
    "import matplotlib\n",
    "import matplotlib.pyplot as plt\n",
    "import numpy as np\n",
    "import pandas as pd\n",
    "import os"
   ]
  },
  {
   "cell_type": "code",
   "execution_count": 7,
   "metadata": {
    "collapsed": false
   },
   "outputs": [],
   "source": [
    "%matplotlib inline\n",
    "plt.rcParams['figure.figsize'] = (20, 10)"
   ]
  },
  {
   "cell_type": "code",
   "execution_count": 8,
   "metadata": {
    "collapsed": true
   },
   "outputs": [],
   "source": [
    "saved_style_state = matplotlib.rcParams.copy()"
   ]
  },
  {
   "cell_type": "code",
   "execution_count": 9,
   "metadata": {
    "collapsed": false,
    "deletable": true,
    "editable": true
   },
   "outputs": [
    {
     "name": "stdout",
     "output_type": "stream",
     "text": [
      "loading from file\n",
      "done\n"
     ]
    }
   ],
   "source": [
    "if os.path.isfile(\"seal-bay-asl-pup-count-with-ci.csv\"):\n",
    "    filepath = \"seal-bay-asl-pup-count-with-ci.csv\"\n",
    "    print \"loading from file\"\n",
    "else:\n",
    "    filepath = \"http://data.gov.au/dataset/04095086-9ce3-4b0c-b513-09ff416253e2/resource/5010b56a-b4ea-4b60-823f-31250311cf03/download/seal-bay-asl-pup-count-with-ci.csv\"\n",
    "    print \"loading from the internet\"\n",
    "\n",
    "pupcount_data = pd.read_csv(filepath)\n",
    "print \"done\""
   ]
  },
  {
   "cell_type": "code",
   "execution_count": 11,
   "metadata": {
    "collapsed": false,
    "deletable": true,
    "editable": true
   },
   "outputs": [
    {
     "data": {
      "text/html": [
       "<div>\n",
       "<style>\n",
       "    .dataframe thead tr:only-child th {\n",
       "        text-align: right;\n",
       "    }\n",
       "\n",
       "    .dataframe thead th {\n",
       "        text-align: left;\n",
       "    }\n",
       "\n",
       "    .dataframe tbody tr th {\n",
       "        vertical-align: top;\n",
       "    }\n",
       "</style>\n",
       "<table border=\"1\" class=\"dataframe\">\n",
       "  <thead>\n",
       "    <tr style=\"text-align: right;\">\n",
       "      <th></th>\n",
       "      <th>Month</th>\n",
       "      <th>Date</th>\n",
       "      <th>Decimal</th>\n",
       "      <th>Year</th>\n",
       "      <th>Pup count</th>\n",
       "      <th>Fitted values</th>\n",
       "      <th>Lower CI</th>\n",
       "      <th>Upper CI</th>\n",
       "      <th>CI Span</th>\n",
       "    </tr>\n",
       "  </thead>\n",
       "  <tbody>\n",
       "    <tr>\n",
       "      <th>0</th>\n",
       "      <td>9</td>\n",
       "      <td>18/09/1985</td>\n",
       "      <td>1985.8</td>\n",
       "      <td>1985</td>\n",
       "      <td>154</td>\n",
       "      <td>159.6603</td>\n",
       "      <td>145.67244</td>\n",
       "      <td>173.6482</td>\n",
       "      <td>27.97576</td>\n",
       "    </tr>\n",
       "    <tr>\n",
       "      <th>1</th>\n",
       "      <td>3</td>\n",
       "      <td>18/03/1987</td>\n",
       "      <td>1987.3</td>\n",
       "      <td>1987</td>\n",
       "      <td>166</td>\n",
       "      <td>156.3067</td>\n",
       "      <td>143.67000</td>\n",
       "      <td>168.9435</td>\n",
       "      <td>25.27350</td>\n",
       "    </tr>\n",
       "    <tr>\n",
       "      <th>2</th>\n",
       "      <td>10</td>\n",
       "      <td>25/10/1988</td>\n",
       "      <td>1988.9</td>\n",
       "      <td>1988</td>\n",
       "      <td>136</td>\n",
       "      <td>154.6299</td>\n",
       "      <td>142.64575</td>\n",
       "      <td>166.6141</td>\n",
       "      <td>23.96835</td>\n",
       "    </tr>\n",
       "    <tr>\n",
       "      <th>3</th>\n",
       "      <td>2</td>\n",
       "      <td>12/02/1990</td>\n",
       "      <td>1990.2</td>\n",
       "      <td>1990</td>\n",
       "      <td>162</td>\n",
       "      <td>151.2764</td>\n",
       "      <td>140.53719</td>\n",
       "      <td>162.0155</td>\n",
       "      <td>21.47831</td>\n",
       "    </tr>\n",
       "    <tr>\n",
       "      <th>4</th>\n",
       "      <td>9</td>\n",
       "      <td>18/09/1991</td>\n",
       "      <td>1991.8</td>\n",
       "      <td>1991</td>\n",
       "      <td>128</td>\n",
       "      <td>149.5996</td>\n",
       "      <td>139.44552</td>\n",
       "      <td>159.7536</td>\n",
       "      <td>20.30808</td>\n",
       "    </tr>\n",
       "    <tr>\n",
       "      <th>5</th>\n",
       "      <td>2</td>\n",
       "      <td>12/02/1993</td>\n",
       "      <td>1993.2</td>\n",
       "      <td>1993</td>\n",
       "      <td>153</td>\n",
       "      <td>146.2460</td>\n",
       "      <td>137.16325</td>\n",
       "      <td>155.3287</td>\n",
       "      <td>18.16545</td>\n",
       "    </tr>\n",
       "    <tr>\n",
       "      <th>6</th>\n",
       "      <td>9</td>\n",
       "      <td>18/09/1994</td>\n",
       "      <td>1994.8</td>\n",
       "      <td>1994</td>\n",
       "      <td>124</td>\n",
       "      <td>144.5692</td>\n",
       "      <td>135.96034</td>\n",
       "      <td>153.1780</td>\n",
       "      <td>17.21766</td>\n",
       "    </tr>\n",
       "    <tr>\n",
       "      <th>7</th>\n",
       "      <td>2</td>\n",
       "      <td>12/08/1996</td>\n",
       "      <td>1996.2</td>\n",
       "      <td>1996</td>\n",
       "      <td>145</td>\n",
       "      <td>141.2156</td>\n",
       "      <td>133.39345</td>\n",
       "      <td>149.0377</td>\n",
       "      <td>15.64425</td>\n",
       "    </tr>\n",
       "    <tr>\n",
       "      <th>8</th>\n",
       "      <td>8</td>\n",
       "      <td>12/02/1997</td>\n",
       "      <td>1997.7</td>\n",
       "      <td>1997</td>\n",
       "      <td>149</td>\n",
       "      <td>139.5388</td>\n",
       "      <td>132.01261</td>\n",
       "      <td>147.0650</td>\n",
       "      <td>15.05239</td>\n",
       "    </tr>\n",
       "    <tr>\n",
       "      <th>9</th>\n",
       "      <td>2</td>\n",
       "      <td>12/08/1999</td>\n",
       "      <td>1999.2</td>\n",
       "      <td>1999</td>\n",
       "      <td>148</td>\n",
       "      <td>136.1852</td>\n",
       "      <td>129.01584</td>\n",
       "      <td>143.3546</td>\n",
       "      <td>14.33876</td>\n",
       "    </tr>\n",
       "    <tr>\n",
       "      <th>10</th>\n",
       "      <td>8</td>\n",
       "      <td>12/08/2000</td>\n",
       "      <td>2000.7</td>\n",
       "      <td>2000</td>\n",
       "      <td>135</td>\n",
       "      <td>134.5084</td>\n",
       "      <td>127.38812</td>\n",
       "      <td>141.6287</td>\n",
       "      <td>14.24058</td>\n",
       "    </tr>\n",
       "    <tr>\n",
       "      <th>11</th>\n",
       "      <td>2</td>\n",
       "      <td>12/02/2002</td>\n",
       "      <td>2002.2</td>\n",
       "      <td>2002</td>\n",
       "      <td>147</td>\n",
       "      <td>131.1548</td>\n",
       "      <td>123.86527</td>\n",
       "      <td>138.4444</td>\n",
       "      <td>14.57913</td>\n",
       "    </tr>\n",
       "    <tr>\n",
       "      <th>12</th>\n",
       "      <td>2</td>\n",
       "      <td>12/02/2003</td>\n",
       "      <td>2003.2</td>\n",
       "      <td>2003</td>\n",
       "      <td>122</td>\n",
       "      <td>129.4780</td>\n",
       "      <td>121.97619</td>\n",
       "      <td>136.9799</td>\n",
       "      <td>15.00371</td>\n",
       "    </tr>\n",
       "    <tr>\n",
       "      <th>13</th>\n",
       "      <td>8</td>\n",
       "      <td>12/08/2004</td>\n",
       "      <td>2004.7</td>\n",
       "      <td>2004</td>\n",
       "      <td>148</td>\n",
       "      <td>127.8012</td>\n",
       "      <td>120.01034</td>\n",
       "      <td>135.5921</td>\n",
       "      <td>15.58176</td>\n",
       "    </tr>\n",
       "    <tr>\n",
       "      <th>14</th>\n",
       "      <td>2</td>\n",
       "      <td>12/02/2006</td>\n",
       "      <td>2006.2</td>\n",
       "      <td>2006</td>\n",
       "      <td>125</td>\n",
       "      <td>124.4477</td>\n",
       "      <td>115.88141</td>\n",
       "      <td>133.0139</td>\n",
       "      <td>17.13249</td>\n",
       "    </tr>\n",
       "    <tr>\n",
       "      <th>15</th>\n",
       "      <td>8</td>\n",
       "      <td>12/08/2007</td>\n",
       "      <td>2007.7</td>\n",
       "      <td>2007</td>\n",
       "      <td>154</td>\n",
       "      <td>122.7709</td>\n",
       "      <td>113.73525</td>\n",
       "      <td>131.8065</td>\n",
       "      <td>18.07125</td>\n",
       "    </tr>\n",
       "    <tr>\n",
       "      <th>16</th>\n",
       "      <td>2</td>\n",
       "      <td>12/02/2009</td>\n",
       "      <td>2009.2</td>\n",
       "      <td>2009</td>\n",
       "      <td>122</td>\n",
       "      <td>119.4173</td>\n",
       "      <td>109.31741</td>\n",
       "      <td>129.5171</td>\n",
       "      <td>20.19969</td>\n",
       "    </tr>\n",
       "    <tr>\n",
       "      <th>17</th>\n",
       "      <td>10</td>\n",
       "      <td>24/10/2010</td>\n",
       "      <td>2010.9</td>\n",
       "      <td>2010</td>\n",
       "      <td>119</td>\n",
       "      <td>117.7405</td>\n",
       "      <td>107.05824</td>\n",
       "      <td>128.4227</td>\n",
       "      <td>21.36446</td>\n",
       "    </tr>\n",
       "    <tr>\n",
       "      <th>18</th>\n",
       "      <td>1</td>\n",
       "      <td>6/01/2012</td>\n",
       "      <td>2012.1</td>\n",
       "      <td>2012</td>\n",
       "      <td>84</td>\n",
       "      <td>114.3869</td>\n",
       "      <td>102.46390</td>\n",
       "      <td>126.3099</td>\n",
       "      <td>23.84600</td>\n",
       "    </tr>\n",
       "    <tr>\n",
       "      <th>19</th>\n",
       "      <td>8</td>\n",
       "      <td>12/08/2013</td>\n",
       "      <td>2013.7</td>\n",
       "      <td>2013</td>\n",
       "      <td>99</td>\n",
       "      <td>112.7101</td>\n",
       "      <td>100.13624</td>\n",
       "      <td>125.2840</td>\n",
       "      <td>25.14776</td>\n",
       "    </tr>\n",
       "    <tr>\n",
       "      <th>20</th>\n",
       "      <td>2</td>\n",
       "      <td>12/02/2015</td>\n",
       "      <td>2015.2</td>\n",
       "      <td>2015</td>\n",
       "      <td>103</td>\n",
       "      <td>109.3565</td>\n",
       "      <td>95.43416</td>\n",
       "      <td>123.2789</td>\n",
       "      <td>27.84474</td>\n",
       "    </tr>\n",
       "  </tbody>\n",
       "</table>\n",
       "</div>"
      ],
      "text/plain": [
       "    Month        Date  Decimal  Year  Pup count  Fitted values   Lower CI  \\\n",
       "0       9  18/09/1985   1985.8  1985        154       159.6603  145.67244   \n",
       "1       3  18/03/1987   1987.3  1987        166       156.3067  143.67000   \n",
       "2      10  25/10/1988   1988.9  1988        136       154.6299  142.64575   \n",
       "3       2  12/02/1990   1990.2  1990        162       151.2764  140.53719   \n",
       "4       9  18/09/1991   1991.8  1991        128       149.5996  139.44552   \n",
       "5       2  12/02/1993   1993.2  1993        153       146.2460  137.16325   \n",
       "6       9  18/09/1994   1994.8  1994        124       144.5692  135.96034   \n",
       "7       2  12/08/1996   1996.2  1996        145       141.2156  133.39345   \n",
       "8       8  12/02/1997   1997.7  1997        149       139.5388  132.01261   \n",
       "9       2  12/08/1999   1999.2  1999        148       136.1852  129.01584   \n",
       "10      8  12/08/2000   2000.7  2000        135       134.5084  127.38812   \n",
       "11      2  12/02/2002   2002.2  2002        147       131.1548  123.86527   \n",
       "12      2  12/02/2003   2003.2  2003        122       129.4780  121.97619   \n",
       "13      8  12/08/2004   2004.7  2004        148       127.8012  120.01034   \n",
       "14      2  12/02/2006   2006.2  2006        125       124.4477  115.88141   \n",
       "15      8  12/08/2007   2007.7  2007        154       122.7709  113.73525   \n",
       "16      2  12/02/2009   2009.2  2009        122       119.4173  109.31741   \n",
       "17     10  24/10/2010   2010.9  2010        119       117.7405  107.05824   \n",
       "18      1   6/01/2012   2012.1  2012         84       114.3869  102.46390   \n",
       "19      8  12/08/2013   2013.7  2013         99       112.7101  100.13624   \n",
       "20      2  12/02/2015   2015.2  2015        103       109.3565   95.43416   \n",
       "\n",
       "    Upper CI   CI Span  \n",
       "0   173.6482  27.97576  \n",
       "1   168.9435  25.27350  \n",
       "2   166.6141  23.96835  \n",
       "3   162.0155  21.47831  \n",
       "4   159.7536  20.30808  \n",
       "5   155.3287  18.16545  \n",
       "6   153.1780  17.21766  \n",
       "7   149.0377  15.64425  \n",
       "8   147.0650  15.05239  \n",
       "9   143.3546  14.33876  \n",
       "10  141.6287  14.24058  \n",
       "11  138.4444  14.57913  \n",
       "12  136.9799  15.00371  \n",
       "13  135.5921  15.58176  \n",
       "14  133.0139  17.13249  \n",
       "15  131.8065  18.07125  \n",
       "16  129.5171  20.19969  \n",
       "17  128.4227  21.36446  \n",
       "18  126.3099  23.84600  \n",
       "19  125.2840  25.14776  \n",
       "20  123.2789  27.84474  "
      ]
     },
     "execution_count": 11,
     "metadata": {},
     "output_type": "execute_result"
    }
   ],
   "source": [
    "pupcount_data.head(23\n",
    "                )"
   ]
  },
  {
   "cell_type": "code",
   "execution_count": 12,
   "metadata": {
    "collapsed": false,
    "deletable": true,
    "editable": true
   },
   "outputs": [
    {
     "data": {
      "text/plain": [
       "Index([u'Month', u'Date', u'Decimal', u'Year', u'Pup count', u'Fitted values',\n",
       "       u'Lower CI', u'Upper CI', u'CI Span'],\n",
       "      dtype='object')"
      ]
     },
     "execution_count": 12,
     "metadata": {},
     "output_type": "execute_result"
    }
   ],
   "source": [
    "pupcount_data.columns"
   ]
  },
  {
   "cell_type": "code",
   "execution_count": 17,
   "metadata": {
    "collapsed": false,
    "deletable": true,
    "editable": true
   },
   "outputs": [
    {
     "data": {
      "text/plain": [
       "Month                     9\n",
       "Date             18/09/1985\n",
       "Decimal              1985.8\n",
       "Year                   1985\n",
       "Pup count               154\n",
       "Fitted values        159.66\n",
       "Lower CI            145.672\n",
       "Upper CI            173.648\n",
       "CI Span             27.9758\n",
       "Name: 0, dtype: object"
      ]
     },
     "execution_count": 17,
     "metadata": {},
     "output_type": "execute_result"
    }
   ],
   "source": [
    "row_one = pupcount_data.iloc[0]\n",
    "row_one"
   ]
  },
  {
   "cell_type": "code",
   "execution_count": 18,
   "metadata": {
    "collapsed": false,
    "deletable": true,
    "editable": true
   },
   "outputs": [
    {
     "data": {
      "text/plain": [
       "154"
      ]
     },
     "execution_count": 18,
     "metadata": {},
     "output_type": "execute_result"
    }
   ],
   "source": [
    "row_one[\"Pup count\"]"
   ]
  },
  {
   "cell_type": "code",
   "execution_count": 13,
   "metadata": {
    "collapsed": false,
    "deletable": true,
    "editable": true
   },
   "outputs": [
    {
     "data": {
      "text/plain": [
       "0     154\n",
       "1     166\n",
       "2     136\n",
       "3     162\n",
       "4     128\n",
       "5     153\n",
       "6     124\n",
       "7     145\n",
       "8     149\n",
       "9     148\n",
       "10    135\n",
       "11    147\n",
       "12    122\n",
       "13    148\n",
       "14    125\n",
       "15    154\n",
       "16    122\n",
       "17    119\n",
       "18     84\n",
       "19     99\n",
       "20    103\n",
       "Name: Pup count, dtype: int64"
      ]
     },
     "execution_count": 13,
     "metadata": {},
     "output_type": "execute_result"
    }
   ],
   "source": [
    "pupcount_data[\"Pup count\"]"
   ]
  },
  {
   "cell_type": "code",
   "execution_count": 14,
   "metadata": {
    "collapsed": false,
    "deletable": true,
    "editable": true
   },
   "outputs": [
    {
     "data": {
      "text/plain": [
       "<matplotlib.axes._subplots.AxesSubplot at 0x7fa70a6f6750>"
      ]
     },
     "execution_count": 14,
     "metadata": {},
     "output_type": "execute_result"
    },
    {
     "data": {
      "image/png": "[encoded data removed]",
      "text/plain": [
       "<matplotlib.figure.Figure at 0x7fa70a7b67d0>"
      ]
     },
     "metadata": {},
     "output_type": "display_data"
    }
   ],
   "source": [
    "pupcount_data[\"Pup count\"].plot()"
   ]
  },
  {
   "cell_type": "code",
   "execution_count": 15,
   "metadata": {
    "collapsed": false,
    "deletable": true,
    "editable": true
   },
   "outputs": [
    {
     "data": {
      "text/plain": [
       "<matplotlib.axes._subplots.AxesSubplot at 0x7fa70a546310>"
      ]
     },
     "execution_count": 15,
     "metadata": {},
     "output_type": "execute_result"
    },
    {
     "data": {
      "image/png": "[encoded data removed]",
      "text/plain": [
       "<matplotlib.figure.Figure at 0x7fa70a61a4d0>"
      ]
     },
     "metadata": {},
     "output_type": "display_data"
    }
   ],
   "source": [
    "pupcount_data[\"Pup count\"].hist()"
   ]
  },
  {
   "cell_type": "code",
   "execution_count": 17,
   "metadata": {
    "collapsed": false,
    "deletable": true,
    "editable": true
   },
   "outputs": [
    {
     "data": {
      "text/plain": [
       "<matplotlib.axes._subplots.AxesSubplot at 0x7fa70a3199d0>"
      ]
     },
     "execution_count": 17,
     "metadata": {},
     "output_type": "execute_result"
    },
    {
     "data": {
      "image/png": "[encoded data removed]",
      "text/plain": [
       "<matplotlib.figure.Figure at 0x7fa70a6301d0>"
      ]
     },
     "metadata": {},
     "output_type": "display_data"
    }
   ],
   "source": [
    "pupcount_data[\"Pup count\"][pupcount_data[\"Pup count\"] < 160].hist()"
   ]
  },
  {
   "cell_type": "code",
   "execution_count": null,
   "metadata": {
    "collapsed": true,
    "deletable": true,
    "editable": true
   },
   "outputs": [],
   "source": []
  }
 ],
 "metadata": {
  "hide_input": false,
  "kernelspec": {
   "display_name": "Python 2",
   "language": "python",
   "name": "python2"
  },
  "language_info": {
   "codemirror_mode": {
    "name": "ipython",
    "version": 2
   },
   "file_extension": ".py",
   "mimetype": "text/x-python",
   "name": "python",
   "nbconvert_exporter": "python",
   "pygments_lexer": "ipython2",
   "version": "2.7.12"
  },
  "latex_envs": {
   "LaTeX_envs_menu_present": true,
   "autocomplete": true,
   "bibliofile": "biblio.bib",
   "cite_by": "apalike",
   "current_citInitial": 1,
   "eqLabelWithNumbers": true,
   "eqNumInitial": 1,
   "hotkeys": {
    "equation": "Ctrl-E",
    "itemize": "Ctrl-I"
   },
   "labels_anchors": false,
   "latex_user_defs": false,
   "report_style_numbering": false,
   "user_envs_cfg": false
  },
  "nbTranslate": {
   "displayLangs": [
    "*"
   ],
   "hotkey": "alt-t",
   "langInMainMenu": true,
   "sourceLang": "en",
   "targetLang": "fr",
   "useGoogleTranslate": true
  },
  "toc": {
   "colors": {
    "hover_highlight": "#DAA520",
    "navigate_num": "#000000",
    "navigate_text": "#333333",
    "running_highlight": "#FF0000",
    "selected_highlight": "#FFD700",
    "sidebar_border": "#EEEEEE",
    "wrapper_background": "#FFFFFF"
   },
   "moveMenuLeft": true,
   "nav_menu": {
    "height": "11px",
    "width": "251px"
   },
   "navigate_menu": true,
   "number_sections": true,
   "sideBar": true,
   "threshold": 4,
   "toc_cell": false,
   "toc_section_display": "block",
   "toc_window_display": false,
   "widenNotebook": false
  }
 },
 "nbformat": 4,
 "nbformat_minor": 2
}
